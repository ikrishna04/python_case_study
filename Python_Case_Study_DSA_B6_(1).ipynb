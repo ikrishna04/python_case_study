{
  "nbformat": 4,
  "nbformat_minor": 0,
  "metadata": {
    "colab": {
      "provenance": []
    },
    "kernelspec": {
      "name": "python3",
      "display_name": "Python 3"
    },
    "language_info": {
      "name": "python"
    }
  },
  "cells": [
    {
      "cell_type": "markdown",
      "source": [
        "# Answer the following questions using only builtin Python datatypes and functions. Do not use Numpy or Scipy (i.e. No library imports allowed)"
      ],
      "metadata": {
        "id": "zVV_KMSIUG-A"
      }
    },
    {
      "cell_type": "markdown",
      "source": [
        "# Q1. Write a function that return the range (maximum and minimun) of a given list of numbers"
      ],
      "metadata": {
        "id": "uZnK7VgWV5SI"
      }
    },
    {
      "cell_type": "code",
      "source": [
        "def min_max(list):\n",
        "    x = min(list)\n",
        "    y = max(list)\n",
        "    return(x,y)\n",
        "list = [1,2,3,4,5]\n",
        "min_max(list)"
      ],
      "metadata": {
        "id": "vuAbJQcOWAM7",
        "colab": {
          "base_uri": "https://localhost:8080/"
        },
        "outputId": "f5d5b4ea-a29e-4f4a-ec6e-55af0be57a45"
      },
      "execution_count": 1,
      "outputs": [
        {
          "output_type": "execute_result",
          "data": {
            "text/plain": [
              "(1, 5)"
            ]
          },
          "metadata": {},
          "execution_count": 1
        }
      ]
    },
    {
      "cell_type": "markdown",
      "source": [
        "## Q2. Write function that returns mean value of a list of numbers"
      ],
      "metadata": {
        "id": "Y5_v5a8_U1O-"
      }
    },
    {
      "cell_type": "code",
      "source": [
        "a=[1,2,3,4,5]\n",
        "def mean(a):\n",
        "    add = 0\n",
        "    n = len(a)\n",
        "    for i in a:\n",
        "        add = add + i\n",
        "    print(add/n)\n",
        "mean(a)"
      ],
      "metadata": {
        "id": "RajjEyacU7Sc",
        "colab": {
          "base_uri": "https://localhost:8080/"
        },
        "outputId": "e360b0c6-f13a-47b3-d26f-016e7a045916"
      },
      "execution_count": 2,
      "outputs": [
        {
          "output_type": "stream",
          "name": "stdout",
          "text": [
            "3.0\n"
          ]
        }
      ]
    },
    {
      "cell_type": "markdown",
      "source": [
        "# Q3. Write a function that returns the median value of a list of numbers"
      ],
      "metadata": {
        "id": "OpeRxoEoVTIP"
      }
    },
    {
      "cell_type": "code",
      "source": [
        "a=[1,2,3,4,5]\n",
        "def median(a):\n",
        "    data = sorted(a)\n",
        "    n = len(data)\n",
        "    if n%2 == 0:\n",
        "        print((data[(n//2)-1] + data[n//2])//2)\n",
        "    else:\n",
        "        print(data[((n+1)//2)-1])\n",
        "\n",
        "median(a)"
      ],
      "metadata": {
        "id": "u1CUy0UOVaQi",
        "colab": {
          "base_uri": "https://localhost:8080/"
        },
        "outputId": "c22b1ddd-02a5-46d9-d608-79b2cbeffd85"
      },
      "execution_count": 3,
      "outputs": [
        {
          "output_type": "stream",
          "name": "stdout",
          "text": [
            "3\n"
          ]
        }
      ]
    },
    {
      "cell_type": "markdown",
      "source": [
        "## Q4. Write a function to return the mod of a list of numbers, if no mod exists, it should return None. If more than one mod exist, return the mod values as list"
      ],
      "metadata": {
        "id": "2EMOG7AZSqVn"
      }
    },
    {
      "cell_type": "code",
      "source": [
        "def find_mode(lst):\n",
        "    freq = {}\n",
        "    for num in lst:\n",
        "        freq[num] = freq.get(num, 0) + 1\n",
        "\n",
        "    max_count = max(freq.values())\n",
        "    mode = [key for key, value in freq.items() if value == max_count]\n",
        "\n",
        "    if len(mode) == len(freq):\n",
        "        return \"No mode\"\n",
        "    elif len(mode) == 1:\n",
        "        return mode[0]\n",
        "    else:\n",
        "        return mode\n",
        "find_mode(a)"
      ],
      "metadata": {
        "colab": {
          "base_uri": "https://localhost:8080/"
        },
        "id": "4bDANsAB3rSx",
        "outputId": "f5732d23-02c7-4ab2-fc75-52cf5b5a3a45"
      },
      "execution_count": 98,
      "outputs": [
        {
          "output_type": "execute_result",
          "data": {
            "text/plain": [
              "4"
            ]
          },
          "metadata": {},
          "execution_count": 98
        }
      ]
    },
    {
      "cell_type": "markdown",
      "source": [
        "## Q5. Write function to compute a given percentile value (e.g. 90th percentile) of a list of numbers"
      ],
      "metadata": {
        "id": "LcqWwqtgTCiL"
      }
    },
    {
      "cell_type": "code",
      "source": [
        "data = [4,6,8,2,9,7,5,3,1,12,16]\n",
        "a = sorted(data)\n",
        "def percentile(lst):\n",
        "    lst.sort()\n",
        "    p = int(input(\"enter the percentile\"))\n",
        "    n = len(lst)\n",
        "    g = float((p/100)*(n+1))\n",
        "    if g%10 == 0:\n",
        "        print(lst[g-1])\n",
        "    else:\n",
        "        f = int(g)\n",
        "        h = g - f\n",
        "        num = lst[f-1] + (lst[f] - lst[f-1]) * h\n",
        "        print(num)\n",
        "percentile(a)"
      ],
      "metadata": {
        "id": "Sn307h0TTb2b",
        "colab": {
          "base_uri": "https://localhost:8080/"
        },
        "outputId": "9facbf73-2c82-44c0-a2b9-80c5d113a95d"
      },
      "execution_count": 31,
      "outputs": [
        {
          "output_type": "stream",
          "name": "stdout",
          "text": [
            "enter the percentile50\n",
            "6.0\n"
          ]
        }
      ]
    },
    {
      "cell_type": "markdown",
      "source": [
        "# Q6. Write a function that returns the lower bound of a list of numbers"
      ],
      "metadata": {
        "id": "N-TYHkDcWOfS"
      }
    },
    {
      "cell_type": "code",
      "source": [
        "data = [7,11,23,42,-3,-21,26,30]\n",
        "def percentile(lst,p):\n",
        "    lst.sort()\n",
        "    n = len(lst)\n",
        "    g = float((p/100)*(n+1))\n",
        "    if g%10 == 0:\n",
        "        print(lst[g-1])\n",
        "    else:\n",
        "        f = int(g)\n",
        "        h = g - f\n",
        "        num = lst[f-1] + (lst[f] - lst[f-1]) * h\n",
        "        print(num)\n",
        "        return num\n",
        "\n",
        "\n",
        "def lower_bound(lst):\n",
        "  q1=percentile(lst,25)\n",
        "  q3=percentile(lst,75)\n",
        "  IQR = q3 - q1\n",
        "  print(IQR)\n",
        "  lb = q1-1.5*IQR\n",
        "  print(lb)\n",
        "\n",
        "lower_bound(data)"
      ],
      "metadata": {
        "id": "Y-RKPdKuW5nx",
        "colab": {
          "base_uri": "https://localhost:8080/"
        },
        "outputId": "09c6754e-3170-4304-8f2f-f5a0060653aa"
      },
      "execution_count": 89,
      "outputs": [
        {
          "output_type": "stream",
          "name": "stdout",
          "text": [
            "-0.5\n",
            "29.0\n",
            "29.5\n",
            "-44.75\n"
          ]
        }
      ]
    },
    {
      "cell_type": "markdown",
      "source": [
        "## Q7. Write function to return any outliers from a given list of numbers, if no outliers present it should return None"
      ],
      "metadata": {
        "id": "5aHfaI_jThpX"
      }
    },
    {
      "cell_type": "code",
      "source": [
        "def upper_bound(lst):\n",
        "  q1=percentile(lst,25)\n",
        "  q3=percentile(lst,75)\n",
        "  IQR = q3 - q1\n",
        "  print(IQR)\n",
        "  Ub = q3+1.5*IQR\n",
        "  print(Ub)\n",
        "\n",
        "def outliers(list):\n",
        "  lb = lower_bound(list)\n",
        "  ub = upper_bound(list)\n",
        "  outlier_list = [x for x in list if x<=lb or x>=Ub]\n",
        "  if len(outlier_list)>0:\n",
        "    return outlier_list\n",
        "  else:\n",
        "    print(\"No outliers\")\n",
        "    return None\n",
        "\n",
        "upper_bound(data)"
      ],
      "metadata": {
        "colab": {
          "base_uri": "https://localhost:8080/"
        },
        "id": "UMaiyZkMtxp8",
        "outputId": "61cd46a1-f175-4fe7-93b4-949e2f8e4e36"
      },
      "execution_count": 93,
      "outputs": [
        {
          "output_type": "stream",
          "name": "stdout",
          "text": [
            "-0.5\n",
            "29.0\n",
            "29.5\n",
            "73.25\n"
          ]
        }
      ]
    },
    {
      "cell_type": "markdown",
      "source": [
        "##Q8. Write a function to return standard deviation of a list of numbers"
      ],
      "metadata": {
        "id": "jI9t-tcDT5EK"
      }
    },
    {
      "cell_type": "code",
      "source": [],
      "metadata": {
        "id": "YF4ayxCLyxSa"
      },
      "execution_count": null,
      "outputs": []
    },
    {
      "cell_type": "code",
      "source": [
        "data = [2,2,2,-2,-2,-2]\n",
        "def stdev(data):\n",
        "    n = len(data)\n",
        "    mean = sum(data) / n\n",
        "    variance = sum((i - mean) ** 2 for i in data) / n\n",
        "    return variance ** 0.5\n",
        "stdev(data)"
      ],
      "metadata": {
        "id": "MMU_cMlLUFxJ",
        "colab": {
          "base_uri": "https://localhost:8080/"
        },
        "outputId": "dd4929db-4e49-4841-bbd8-95e71f74e86b"
      },
      "execution_count": 61,
      "outputs": [
        {
          "output_type": "execute_result",
          "data": {
            "text/plain": [
              "2.0"
            ]
          },
          "metadata": {},
          "execution_count": 61
        }
      ]
    },
    {
      "cell_type": "markdown",
      "source": [
        "## Q9. Write function to compute and return Z-score values of a list of numbers"
      ],
      "metadata": {
        "id": "LufmQDJPURkM"
      }
    },
    {
      "cell_type": "code",
      "source": [
        "data = [2,2,2,-2,-2,-2]\n",
        "def zscore(data):\n",
        "    n = len(data)\n",
        "    mean = sum(data) / n\n",
        "    variance = sum((i - mean) ** 2 for i in data) / n\n",
        "    stdev = variance ** 0.5\n",
        "    zscore = [(i - mean) / stdev for i in data]\n",
        "    return zscore\n",
        "zscore(data)"
      ],
      "metadata": {
        "id": "ml2qpSpFUYxV",
        "colab": {
          "base_uri": "https://localhost:8080/"
        },
        "outputId": "dd50cb72-9315-4831-f913-122e8615472c"
      },
      "execution_count": 64,
      "outputs": [
        {
          "output_type": "execute_result",
          "data": {
            "text/plain": [
              "[1.0, 1.0, 1.0, -1.0, -1.0, -1.0]"
            ]
          },
          "metadata": {},
          "execution_count": 64
        }
      ]
    },
    {
      "cell_type": "markdown",
      "source": [
        "## Q10. Write a function to compute and return the Pearson correlation coefficient value of two list of numbers"
      ],
      "metadata": {
        "id": "YQSNHIfxUb6s"
      }
    },
    {
      "cell_type": "code",
      "source": [
        "x = [1,2,3,4]\n",
        "y = [5,6,7,8]\n",
        "def pearson_correlation(x, y):\n",
        "\n",
        "    n = len(x)\n",
        "\n",
        "\n",
        "    mean_x = sum(x) / n\n",
        "    mean_y = sum(y) / n\n",
        "\n",
        "\n",
        "    cov = sum((xi - mean_x) * (yi - mean_y) for xi, yi in zip(x, y))\n",
        "    var_x = sum((xi - mean_x) ** 2 for xi in x)\n",
        "    var_y = sum((yi - mean_y) ** 2 for yi in y)\n",
        "\n",
        "\n",
        "    denom = (var_x * var_y) ** 0.5\n",
        "\n",
        "\n",
        "    return cov / denom\n",
        "pearson_correlation(x,y)"
      ],
      "metadata": {
        "id": "1YGqr3T6Uk6H",
        "colab": {
          "base_uri": "https://localhost:8080/"
        },
        "outputId": "156160ae-20cd-4689-82dc-4d7e21553cbe"
      },
      "execution_count": 99,
      "outputs": [
        {
          "output_type": "execute_result",
          "data": {
            "text/plain": [
              "1.0"
            ]
          },
          "metadata": {},
          "execution_count": 99
        }
      ]
    }
  ]
}